{
 "cells": [
  {
   "cell_type": "code",
   "execution_count": null,
   "metadata": {},
   "outputs": [],
   "source": [
    "S3 Bucket\n",
    "1. Bucket Creation\n",
    "2. S3 Bucket - Creation Date\n",
    "3. Upload file - current dir,different dir - Single file or object, multiple files \n"
   ]
  },
  {
   "cell_type": "code",
   "execution_count": 2,
   "metadata": {},
   "outputs": [
    {
     "name": "stdout",
     "output_type": "stream",
     "text": [
      "enter the bucket namejohn2020\n"
     ]
    },
    {
     "data": {
      "text/plain": [
       "{'ResponseMetadata': {'RequestId': 'Y4QC5E8WAJMMWQ9F',\n",
       "  'HostId': '1K+uz36ebCl1vk0PukrGVhS1uYWrbk82xmdTu/NsR3LspqBAwnGx4HIdB4HqX24BGpqMTVngC5g=',\n",
       "  'HTTPStatusCode': 200,\n",
       "  'HTTPHeaders': {'x-amz-id-2': '1K+uz36ebCl1vk0PukrGVhS1uYWrbk82xmdTu/NsR3LspqBAwnGx4HIdB4HqX24BGpqMTVngC5g=',\n",
       "   'x-amz-request-id': 'Y4QC5E8WAJMMWQ9F',\n",
       "   'date': 'Tue, 15 Jun 2021 06:15:43 GMT',\n",
       "   'location': '/john2020',\n",
       "   'server': 'AmazonS3',\n",
       "   'content-length': '0'},\n",
       "  'RetryAttempts': 0},\n",
       " 'Location': '/john2020'}"
      ]
     },
     "execution_count": 2,
     "metadata": {},
     "output_type": "execute_result"
    }
   ],
   "source": [
    "from secrets import access_key,secret_access_key\n",
    "import boto3\n",
    "bucket_name=input(\"enter the bucket name\")\n",
    "s3_client=boto3.client('s3',aws_access_key_id=access_key,aws_secret_access_key=secret_access_key)\n",
    "s3_bucket=s3_client.create_bucket(\n",
    "ACL='public-read-write',\n",
    "Bucket=bucket_name\n",
    ")\n",
    "s3_bucket"
   ]
  },
  {
   "cell_type": "code",
   "execution_count": 4,
   "metadata": {},
   "outputs": [
    {
     "data": {
      "text/plain": [
       "s3.bucketsCollection(s3.ServiceResource(), s3.Bucket)"
      ]
     },
     "execution_count": 4,
     "metadata": {},
     "output_type": "execute_result"
    }
   ],
   "source": [
    "s3=boto3.resource('s3',aws_access_key_id=access_key,aws_secret_access_key=secret_access_key)\n",
    "s3.buckets.all()"
   ]
  },
  {
   "cell_type": "code",
   "execution_count": 9,
   "metadata": {},
   "outputs": [
    {
     "data": {
      "text/plain": [
       "[s3.Bucket(name='john2020'), s3.Bucket(name='smi2020')]"
      ]
     },
     "execution_count": 9,
     "metadata": {},
     "output_type": "execute_result"
    }
   ],
   "source": [
    "list(s3.buckets.all())"
   ]
  },
  {
   "cell_type": "code",
   "execution_count": 18,
   "metadata": {},
   "outputs": [
    {
     "name": "stdout",
     "output_type": "stream",
     "text": [
      "smi2020\n"
     ]
    }
   ],
   "source": [
    "for bucket in s3.buckets.all():\n",
    "        if(bucket.name!='john2020'):\n",
    "             print(bucket.name)"
   ]
  },
  {
   "cell_type": "code",
   "execution_count": 19,
   "metadata": {},
   "outputs": [
    {
     "data": {
      "text/plain": [
       "2"
      ]
     },
     "execution_count": 19,
     "metadata": {},
     "output_type": "execute_result"
    }
   ],
   "source": [
    "len(list(s3.buckets.all()))"
   ]
  },
  {
   "cell_type": "code",
   "execution_count": 21,
   "metadata": {},
   "outputs": [
    {
     "data": {
      "text/plain": [
       "{'ResponseMetadata': {'RequestId': '1WVJ8AG3PBFQG4P8',\n",
       "  'HostId': 'njg0RHPnLFQ4ySsuvvFxBoYvxYVDRqxfzHexd06q9/hV0p56d3l92BquR3x+yeBkge8ToSYibqU=',\n",
       "  'HTTPStatusCode': 200,\n",
       "  'HTTPHeaders': {'x-amz-id-2': 'njg0RHPnLFQ4ySsuvvFxBoYvxYVDRqxfzHexd06q9/hV0p56d3l92BquR3x+yeBkge8ToSYibqU=',\n",
       "   'x-amz-request-id': '1WVJ8AG3PBFQG4P8',\n",
       "   'date': 'Tue, 15 Jun 2021 06:42:13 GMT',\n",
       "   'content-type': 'application/xml',\n",
       "   'transfer-encoding': 'chunked',\n",
       "   'server': 'AmazonS3'},\n",
       "  'RetryAttempts': 0},\n",
       " 'Buckets': [{'Name': 'john2020',\n",
       "   'CreationDate': datetime.datetime(2021, 6, 15, 6, 15, 43, tzinfo=tzutc())},\n",
       "  {'Name': 'smi2020',\n",
       "   'CreationDate': datetime.datetime(2021, 6, 15, 6, 8, 44, tzinfo=tzutc())}],\n",
       " 'Owner': {'DisplayName': 'johntrainer2021',\n",
       "  'ID': '7df14a44895f7f71cdbe1d03dd68c5ba2f5bf865c9d28e1ccf1a13680c490bdd'}}"
      ]
     },
     "execution_count": 21,
     "metadata": {},
     "output_type": "execute_result"
    }
   ],
   "source": [
    "# Get Creation Date\n",
    "s3=boto3.client('s3',aws_access_key_id=access_key,aws_secret_access_key=secret_access_key)\n",
    "s3.list_buckets()"
   ]
  },
  {
   "cell_type": "code",
   "execution_count": 22,
   "metadata": {},
   "outputs": [
    {
     "data": {
      "text/plain": [
       "[{'Name': 'john2020',\n",
       "  'CreationDate': datetime.datetime(2021, 6, 15, 6, 15, 43, tzinfo=tzutc())},\n",
       " {'Name': 'smi2020',\n",
       "  'CreationDate': datetime.datetime(2021, 6, 15, 6, 8, 44, tzinfo=tzutc())}]"
      ]
     },
     "execution_count": 22,
     "metadata": {},
     "output_type": "execute_result"
    }
   ],
   "source": [
    "s3.list_buckets()[\"Buckets\"]"
   ]
  },
  {
   "cell_type": "code",
   "execution_count": 26,
   "metadata": {},
   "outputs": [
    {
     "data": {
      "text/plain": [
       "'john2020'"
      ]
     },
     "execution_count": 26,
     "metadata": {},
     "output_type": "execute_result"
    }
   ],
   "source": [
    "s3.list_buckets()[\"Buckets\"][0]['Name']"
   ]
  },
  {
   "cell_type": "code",
   "execution_count": 28,
   "metadata": {},
   "outputs": [],
   "source": [
    "date_s3_bucket=s3.list_buckets()[\"Buckets\"][0]['CreationDate']"
   ]
  },
  {
   "cell_type": "code",
   "execution_count": 29,
   "metadata": {},
   "outputs": [
    {
     "data": {
      "text/plain": [
       "datetime.datetime(2021, 6, 15, 6, 15, 43, tzinfo=tzutc())"
      ]
     },
     "execution_count": 29,
     "metadata": {},
     "output_type": "execute_result"
    }
   ],
   "source": [
    "date_s3_bucket"
   ]
  },
  {
   "cell_type": "code",
   "execution_count": 30,
   "metadata": {},
   "outputs": [
    {
     "data": {
      "text/plain": [
       "'150621 - 06:15:43'"
      ]
     },
     "execution_count": 30,
     "metadata": {},
     "output_type": "execute_result"
    }
   ],
   "source": [
    "date_s3_bucket.strftime(\"%d%m%y - %H:%M:%S\")"
   ]
  },
  {
   "cell_type": "code",
   "execution_count": 31,
   "metadata": {},
   "outputs": [
    {
     "name": "stdout",
     "output_type": "stream",
     "text": [
      "{'Name': 'john2020', 'CreationDate': datetime.datetime(2021, 6, 15, 6, 15, 43, tzinfo=tzutc())}\n",
      "{'Name': 'smi2020', 'CreationDate': datetime.datetime(2021, 6, 15, 6, 8, 44, tzinfo=tzutc())}\n"
     ]
    }
   ],
   "source": [
    "for bucket in s3.list_buckets()['Buckets']:\n",
    "    print(bucket)"
   ]
  },
  {
   "cell_type": "code",
   "execution_count": 32,
   "metadata": {},
   "outputs": [
    {
     "name": "stdout",
     "output_type": "stream",
     "text": [
      "john2020\n",
      "smi2020\n"
     ]
    }
   ],
   "source": [
    "for bucket in s3.list_buckets()['Buckets']:\n",
    "    print(bucket['Name'])"
   ]
  },
  {
   "cell_type": "code",
   "execution_count": 34,
   "metadata": {},
   "outputs": [
    {
     "data": {
      "text/plain": [
       "['.ipynb_checkpoints',\n",
       " 'Boto3 Basics.ipynb',\n",
       " 'S3 Basics.ipynb',\n",
       " 'secrets.py',\n",
       " '__pycache__']"
      ]
     },
     "execution_count": 34,
     "metadata": {},
     "output_type": "execute_result"
    }
   ],
   "source": [
    "#Upload file\n",
    "#os\n",
    "#glob\n",
    "#datetime\n",
    "\n",
    "import os\n",
    "file_path='C:/Users/JOHNJESUS/SMI - Data Engineering Training - 2021- BI'\n",
    "os.listdir(file_path)"
   ]
  },
  {
   "cell_type": "code",
   "execution_count": null,
   "metadata": {},
   "outputs": [],
   "source": []
  }
 ],
 "metadata": {
  "kernelspec": {
   "display_name": "Python 3",
   "language": "python",
   "name": "python3"
  },
  "language_info": {
   "codemirror_mode": {
    "name": "ipython",
    "version": 3
   },
   "file_extension": ".py",
   "mimetype": "text/x-python",
   "name": "python",
   "nbconvert_exporter": "python",
   "pygments_lexer": "ipython3",
   "version": "3.7.6"
  }
 },
 "nbformat": 4,
 "nbformat_minor": 4
}
