{
 "cells": [
  {
   "cell_type": "markdown",
   "metadata": {},
   "source": [
    "# Agenda\n",
    "1. Boto3 Introduction\n",
    "2. Boto3 Installation\n",
    "3. Boto3 Environment setup to work with AWS Services\n",
    "4. Configure Credentials using AWS CLI Commands\n",
    "5. Boto3 Core Concepts - Session, resource, Client, Meta, Collections, Waiters and Paginators\n",
    "6. Session\n",
    "7. Resource & Client\n",
    "\n",
    "Sample Excercises\n",
    "      1. List IAM Users with resource object\n",
    "      2. List IAM users with Client Object\n",
    "      3. EC2 Instance Create, Stop, Terminate and List Instance ID with state\n",
    "      4. List the S3 bucket\n",
    "      5. S3 Bucket creation, file upload and deletion\n",
    "      6. Cloud watch\n",
    "      7. SNS\n",
    "      8. SQS\n"
   ]
  },
  {
   "cell_type": "markdown",
   "metadata": {},
   "source": [
    "# Boto3\n",
    "  1. Python SDK/API/Library/Module for AWS\n",
    "  2. To ineract with aws services -without AWS Management console window- To maintain or view all session for entire account\n",
    "  3. It allows us to directly create, update,& delete AWS services from our python scripts\n",
    "  4. botocore module - Base module - Low level core functional - exception, session, resource"
   ]
  },
  {
   "cell_type": "markdown",
   "metadata": {},
   "source": [
    "# Boto3 Installation\n",
    "1. python --version\n",
    "2. pip3 install boto3 --user\n",
    "3. python -m pip install --upgrade pip --user - 20.0.1\n",
    "4. pip3 --version\n",
    "\n",
    "\n",
    "# Boto3 Environment setup to work with AWS Services\n",
    "1. IAM User Creation - ec2,s3 developer\n",
    "2. Programmatic access keys - use either root user or any IAM Users \n",
    "3. Copy and Save ID and Secret access Key for root and IAM Users\n",
    "4. root user \n",
    "             Access Key ID: \n",
    "         Secret Access Key: \n",
    "5. IAM User - ec2_Developer\n",
    "           \n",
    "           \n",
    "6. IAM User - S3_Developer\n",
    "              \n",
    "              \n",
    "              \n",
    "# Configure Credentials of your AWS account - awscli commands\n",
    "\n",
    "1. pip3 install awscli --user\n",
    "2. aws configure - cd .aws , type config, type credentials \n",
    "3. Configure root / IAM user access keys / Crdentials using \n",
    "   aws configure --profile root\n",
    "   aws configure --profile non_prod\n",
    "4. echo %HOMEPATH%\n",
    "5. cd .aws\n",
    "6. type config\n",
    "7. type credentials\n",
    "\n"
   ]
  },
  {
   "cell_type": "code",
   "execution_count": null,
   "metadata": {},
   "outputs": [],
   "source": [
    "#session\n",
    "AWS Management Console\n",
    "stores the configuration info\n",
    "create service clients & resources\n"
   ]
  },
  {
   "cell_type": "code",
   "execution_count": 1,
   "metadata": {},
   "outputs": [
    {
     "name": "stdout",
     "output_type": "stream",
     "text": [
      "['cloudformation', 'cloudwatch', 'dynamodb', 'ec2', 'glacier', 'iam', 'opsworks', 's3', 'sns', 'sqs']\n"
     ]
    }
   ],
   "source": [
    "#create a session\n",
    "import boto3\n",
    "aws_mag_con_root=boto3.session.Session(profile_name=\"root\")\n",
    "dir(aws_mag_con_root)\n",
    "print(aws_mag_con_root.get_available_resources())"
   ]
  },
  {
   "cell_type": "code",
   "execution_count": null,
   "metadata": {},
   "outputs": [],
   "source": [
    "#resource & Client\n",
    "\n",
    "Resource - higher level object oriented service access & AWS some of the services\n",
    "client - low level service access\n",
    "         o/p dict format\n",
    "         IAM Operations"
   ]
  },
  {
   "cell_type": "code",
   "execution_count": 23,
   "metadata": {},
   "outputs": [
    {
     "name": "stdout",
     "output_type": "stream",
     "text": [
      "ec2_developer\n",
      "rds_developer\n",
      "s3_developer\n"
     ]
    },
    {
     "data": {
      "text/plain": [
       "['AccessKey',\n",
       " 'LoginProfile',\n",
       " 'MfaDevice',\n",
       " 'Policy',\n",
       " 'SigningCertificate',\n",
       " '__class__',\n",
       " '__delattr__',\n",
       " '__dict__',\n",
       " '__dir__',\n",
       " '__doc__',\n",
       " '__eq__',\n",
       " '__format__',\n",
       " '__ge__',\n",
       " '__getattribute__',\n",
       " '__gt__',\n",
       " '__hash__',\n",
       " '__init__',\n",
       " '__init_subclass__',\n",
       " '__le__',\n",
       " '__lt__',\n",
       " '__module__',\n",
       " '__ne__',\n",
       " '__new__',\n",
       " '__reduce__',\n",
       " '__reduce_ex__',\n",
       " '__repr__',\n",
       " '__setattr__',\n",
       " '__sizeof__',\n",
       " '__str__',\n",
       " '__subclasshook__',\n",
       " '__weakref__',\n",
       " '_name',\n",
       " 'access_keys',\n",
       " 'add_group',\n",
       " 'arn',\n",
       " 'attach_policy',\n",
       " 'attached_policies',\n",
       " 'create',\n",
       " 'create_access_key_pair',\n",
       " 'create_date',\n",
       " 'create_login_profile',\n",
       " 'create_policy',\n",
       " 'delete',\n",
       " 'detach_policy',\n",
       " 'enable_mfa',\n",
       " 'get_available_subresources',\n",
       " 'groups',\n",
       " 'load',\n",
       " 'meta',\n",
       " 'mfa_devices',\n",
       " 'name',\n",
       " 'password_last_used',\n",
       " 'path',\n",
       " 'permissions_boundary',\n",
       " 'policies',\n",
       " 'reload',\n",
       " 'remove_group',\n",
       " 'signing_certificates',\n",
       " 'tags',\n",
       " 'update',\n",
       " 'user_id',\n",
       " 'user_name']"
      ]
     },
     "execution_count": 23,
     "metadata": {},
     "output_type": "execute_result"
    }
   ],
   "source": [
    "#list IAM users with resource object\n",
    "import boto3\n",
    "aws_mag_con_root=boto3.session.Session(profile_name=\"root\")\n",
    "iam_con_re=aws_mag_con_root.resource(service_name='iam',region_name='us-east-2')\n",
    "for each_user in iam_con_re.users.all():\n",
    "    print(each_user.name)\n",
    "dir(each_user)"
   ]
  },
  {
   "cell_type": "code",
   "execution_count": 28,
   "metadata": {},
   "outputs": [
    {
     "name": "stdout",
     "output_type": "stream",
     "text": [
      "<botocore.client.IAM object at 0x000001CF1F5CB448>\n",
      "[{'Path': '/', 'UserName': 'ec2_developer', 'UserId': 'AIDA4EETYBK6STPRRKLHB', 'Arn': 'arn:aws:iam::833533512381:user/ec2_developer', 'CreateDate': datetime.datetime(2020, 6, 9, 5, 22, 45, tzinfo=tzutc())}, {'Path': '/', 'UserName': 'rds_developer', 'UserId': 'AIDA4EETYBK63WCF2P3A6', 'Arn': 'arn:aws:iam::833533512381:user/rds_developer', 'CreateDate': datetime.datetime(2020, 6, 9, 7, 0, 46, tzinfo=tzutc())}, {'Path': '/', 'UserName': 's3_developer', 'UserId': 'AIDA4EETYBK6WAWPEVHUL', 'Arn': 'arn:aws:iam::833533512381:user/s3_developer', 'CreateDate': datetime.datetime(2020, 6, 9, 5, 23, 36, tzinfo=tzutc())}]\n",
      "s3_developer\n",
      "s3_developer\n",
      "s3_developer\n"
     ]
    }
   ],
   "source": [
    "#List IAM users with client object\n",
    "import boto3\n",
    "aws_mag_con_root=boto3.session.Session(profile_name=\"root\")\n",
    "iam_con_cli=aws_mag_con_root.client(service_name='iam',region_name='us-east-2')\n",
    "print(iam_con_cli)\n",
    "print(iam_con_cli.list_users()['Users'])\n",
    "\n",
    "\n"
   ]
  },
  {
   "cell_type": "code",
   "execution_count": 29,
   "metadata": {},
   "outputs": [
    {
     "name": "stdout",
     "output_type": "stream",
     "text": [
      "s3_developer\n",
      "s3_developer\n",
      "s3_developer\n"
     ]
    }
   ],
   "source": [
    "for eachuser in iam_con_cli.list_users()['Users']:\n",
    "    print(each['UserName'])"
   ]
  },
  {
   "cell_type": "code",
   "execution_count": 30,
   "metadata": {},
   "outputs": [
    {
     "name": "stdout",
     "output_type": "stream",
     "text": [
      "{'KeyPairs': [{'KeyPairId': 'key-018cf6422fc6d916a', 'KeyFingerprint': '54:d1:47:37:3f:75:aa:67:f1:f8:c4:64:8e:26:f7:d3:10:de:c9:58', 'KeyName': 'cloudwatch', 'Tags': []}, {'KeyPairId': 'key-0ccc1da3c42f7dbcb', 'KeyFingerprint': '4b:e9:00:99:0c:95:44:f7:1a:22:56:e2:49:d8:58:b4:28:98:cd:f3', 'KeyName': 'John_Key', 'Tags': []}], 'ResponseMetadata': {'RequestId': 'bc620177-166e-413e-81d0-c87dfa4009cc', 'HTTPStatusCode': 200, 'HTTPHeaders': {'x-amzn-requestid': 'bc620177-166e-413e-81d0-c87dfa4009cc', 'content-type': 'text/xml;charset=UTF-8', 'content-length': '746', 'date': 'Tue, 09 Jun 2020 07:49:29 GMT', 'server': 'AmazonEC2'}, 'RetryAttempts': 0}}\n"
     ]
    }
   ],
   "source": [
    "#EC2\n",
    "import boto3\n",
    "aws_mag_con_root=boto3.session.Session(profile_name=\"root\")\n",
    "ec2 = aws_mag_con_root.client(service_name='ec2',region_name='us-east-2')\n",
    "response = ec2.describe_key_pairs()\n",
    "print(response)"
   ]
  },
  {
   "cell_type": "code",
   "execution_count": 34,
   "metadata": {},
   "outputs": [],
   "source": [
    "#create ec2 instance\n",
    "import boto3\n",
    "aws_mag_con_root=boto3.session.Session(profile_name=\"root\")\n",
    "ec2 = aws_mag_con_root.resource(service_name='ec2',region_name='us-east-2')\n",
    "instance = ec2.create_instances(\n",
    " ImageId='ami-07c1207a9d40bc3bd',  \n",
    " MinCount=1,\n",
    " MaxCount=1,\n",
    " InstanceType='t2.micro')\n"
   ]
  },
  {
   "cell_type": "code",
   "execution_count": 37,
   "metadata": {},
   "outputs": [
    {
     "name": "stdout",
     "output_type": "stream",
     "text": [
      "i-0f568ed09370315fe\n"
     ]
    }
   ],
   "source": [
    "print(instance[0].id)"
   ]
  },
  {
   "cell_type": "code",
   "execution_count": 38,
   "metadata": {},
   "outputs": [
    {
     "name": "stdout",
     "output_type": "stream",
     "text": [
      "{'TerminatingInstances': [{'CurrentState': {'Code': 32, 'Name': 'shutting-down'}, 'InstanceId': 'i-0f568ed09370315fe', 'PreviousState': {'Code': 16, 'Name': 'running'}}], 'ResponseMetadata': {'RequestId': '121255f6-57c3-4146-aac7-cbb7cbaed6cf', 'HTTPStatusCode': 200, 'HTTPHeaders': {'x-amzn-requestid': '121255f6-57c3-4146-aac7-cbb7cbaed6cf', 'content-type': 'text/xml;charset=UTF-8', 'transfer-encoding': 'chunked', 'vary': 'accept-encoding', 'date': 'Tue, 09 Jun 2020 07:57:34 GMT', 'server': 'AmazonEC2'}, 'RetryAttempts': 0}}\n"
     ]
    }
   ],
   "source": [
    "#Terminating instances\n",
    "import boto3\n",
    "aws_mag_con_root=boto3.session.Session(profile_name=\"root\")\n",
    "ec2 = aws_mag_con_root.resource('ec2')\n",
    "instance = ec2.Instance(\"i-0f568ed09370315fe\")\n",
    "response = instance.terminate()\n",
    "print(response)"
   ]
  },
  {
   "cell_type": "code",
   "execution_count": 39,
   "metadata": {},
   "outputs": [
    {
     "name": "stdout",
     "output_type": "stream",
     "text": [
      "i-0f568ed09370315fe {'Code': 48, 'Name': 'terminated'}\n",
      "i-0c0156ac572534a1d {'Code': 16, 'Name': 'running'}\n"
     ]
    }
   ],
   "source": [
    "#list all instances with state\n",
    "import boto3\n",
    "aws_mag_con_root=boto3.session.Session(profile_name=\"root\")\n",
    "ec2 = aws_mag_con_root.resource('ec2')\n",
    "for instance in ec2.instances.all():\n",
    "    print(instance.id, instance.state)"
   ]
  },
  {
   "cell_type": "code",
   "execution_count": null,
   "metadata": {},
   "outputs": [],
   "source": []
  },
  {
   "cell_type": "code",
   "execution_count": null,
   "metadata": {},
   "outputs": [],
   "source": []
  }
 ],
 "metadata": {
  "kernelspec": {
   "display_name": "Python 3",
   "language": "python",
   "name": "python3"
  },
  "language_info": {
   "codemirror_mode": {
    "name": "ipython",
    "version": 3
   },
   "file_extension": ".py",
   "mimetype": "text/x-python",
   "name": "python",
   "nbconvert_exporter": "python",
   "pygments_lexer": "ipython3",
   "version": "3.7.6"
  }
 },
 "nbformat": 4,
 "nbformat_minor": 2
}
