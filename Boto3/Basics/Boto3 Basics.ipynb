{
 "cells": [
  {
   "cell_type": "code",
   "execution_count": null,
   "metadata": {},
   "outputs": [],
   "source": [
    "1. Configuration - Anaconda, Pip3, Python 3.x, Boto3\n",
    "2. AWS Mangment console & Programatic access keys - IAM Users\n",
    "3. AWS CLI\n",
    "4. Local Machine - AWS Configuration using AWS CLI Commands"
   ]
  },
  {
   "cell_type": "code",
   "execution_count": null,
   "metadata": {},
   "outputs": [],
   "source": [
    "1. Boto3 Architecture\n",
    "2. Jupyter notebook with AWS Services\n",
    "3. IAM, EC2, S3"
   ]
  },
  {
   "cell_type": "code",
   "execution_count": 7,
   "metadata": {},
   "outputs": [
    {
     "name": "stdout",
     "output_type": "stream",
     "text": [
      "['__class__', '__delattr__', '__dict__', '__dir__', '__doc__', '__eq__', '__format__', '__ge__', '__getattribute__', '__gt__', '__hash__', '__init__', '__init_subclass__', '__le__', '__lt__', '__module__', '__ne__', '__new__', '__reduce__', '__reduce_ex__', '__repr__', '__setattr__', '__sizeof__', '__str__', '__subclasshook__', '__weakref__', '_loader', '_register_default_handlers', '_session', '_setup_loader', 'available_profiles', 'client', 'events', 'get_available_partitions', 'get_available_regions', 'get_available_resources', 'get_available_services', 'get_credentials', 'profile_name', 'region_name', 'resource', 'resource_factory']\n",
      "['cloudformation', 'cloudwatch', 'dynamodb', 'ec2', 'glacier', 'iam', 'opsworks', 's3', 'sns', 'sqs']\n"
     ]
    }
   ],
   "source": [
    "import boto3\n",
    "vimal_us_ec2=boto3.session.Session(profile_name=\"root\")\n",
    "print(dir(vimal_us_ec2))\n",
    "print(vimal_us_ec2.get_available_resources())"
   ]
  },
  {
   "cell_type": "code",
   "execution_count": 13,
   "metadata": {},
   "outputs": [
    {
     "name": "stdout",
     "output_type": "stream",
     "text": [
      "pradeep\n"
     ]
    },
    {
     "data": {
      "text/plain": [
       "['AccessKey',\n",
       " 'AccessKeyPair',\n",
       " 'AccountPasswordPolicy',\n",
       " 'AccountSummary',\n",
       " 'AssumeRolePolicy',\n",
       " 'CurrentUser',\n",
       " 'Group',\n",
       " 'GroupPolicy',\n",
       " 'InstanceProfile',\n",
       " 'LoginProfile',\n",
       " 'MfaDevice',\n",
       " 'Policy',\n",
       " 'PolicyVersion',\n",
       " 'Role',\n",
       " 'RolePolicy',\n",
       " 'SamlProvider',\n",
       " 'ServerCertificate',\n",
       " 'SigningCertificate',\n",
       " 'User',\n",
       " 'UserPolicy',\n",
       " 'VirtualMfaDevice',\n",
       " '__class__',\n",
       " '__delattr__',\n",
       " '__dict__',\n",
       " '__dir__',\n",
       " '__doc__',\n",
       " '__eq__',\n",
       " '__format__',\n",
       " '__ge__',\n",
       " '__getattribute__',\n",
       " '__gt__',\n",
       " '__hash__',\n",
       " '__init__',\n",
       " '__init_subclass__',\n",
       " '__le__',\n",
       " '__lt__',\n",
       " '__module__',\n",
       " '__ne__',\n",
       " '__new__',\n",
       " '__reduce__',\n",
       " '__reduce_ex__',\n",
       " '__repr__',\n",
       " '__setattr__',\n",
       " '__sizeof__',\n",
       " '__str__',\n",
       " '__subclasshook__',\n",
       " '__weakref__',\n",
       " 'change_password',\n",
       " 'create_account_alias',\n",
       " 'create_account_password_policy',\n",
       " 'create_group',\n",
       " 'create_instance_profile',\n",
       " 'create_policy',\n",
       " 'create_role',\n",
       " 'create_saml_provider',\n",
       " 'create_server_certificate',\n",
       " 'create_signing_certificate',\n",
       " 'create_user',\n",
       " 'create_virtual_mfa_device',\n",
       " 'get_available_subresources',\n",
       " 'groups',\n",
       " 'instance_profiles',\n",
       " 'meta',\n",
       " 'policies',\n",
       " 'roles',\n",
       " 'saml_providers',\n",
       " 'server_certificates',\n",
       " 'users',\n",
       " 'virtual_mfa_devices']"
      ]
     },
     "execution_count": 13,
     "metadata": {},
     "output_type": "execute_result"
    }
   ],
   "source": [
    "import boto3\n",
    "vimal_us_ec2=boto3.session.Session(profile_name=\"root\")\n",
    "vimal_iam=vimal_us_ec2.resource(service_name='iam',region_name='us-east-2')\n",
    "for each_user in vimal_iam.users.all():\n",
    "    print(each_user.name)\n",
    "\n",
    "dir(vimal_iam)"
   ]
  },
  {
   "cell_type": "code",
   "execution_count": 14,
   "metadata": {},
   "outputs": [
    {
     "name": "stdout",
     "output_type": "stream",
     "text": [
      "pradeep\n"
     ]
    }
   ],
   "source": [
    "import boto3\n",
    "vimal_us_ec2=boto3.session.Session(profile_name=\"root\")\n",
    "vimal_iam=vimal_us_ec2.client(service_name='iam',region_name='us-east-2')\n",
    "for each_user in vimal_iam.list_users()['Users']:\n",
    "    print(each_user['UserName'])"
   ]
  },
  {
   "cell_type": "code",
   "execution_count": 20,
   "metadata": {},
   "outputs": [
    {
     "name": "stdout",
     "output_type": "stream",
     "text": [
      "pradeep\n"
     ]
    }
   ],
   "source": [
    "import boto3\n",
    "from secrets import access_key,secret_access_key\n",
    "client_iam=boto3.client('iam',aws_access_key_id=access_key,aws_secret_access_key=secret_access_key)\n",
    "for each_user in client_iam.list_users()['Users']:\n",
    "    print(each_user['UserName'])"
   ]
  },
  {
   "cell_type": "code",
   "execution_count": 23,
   "metadata": {},
   "outputs": [],
   "source": [
    "#EC2\n",
    "import boto3\n",
    "vimal_us_ec2=boto3.session.Session(profile_name=\"root\")\n",
    "vimal_ec2=vimal_us_ec2.resource(service_name='ec2',region_name='us-east-2')\n",
    "vimal_instance=vimal_ec2.create_instances(\n",
    "ImageId='ami-0d8d212151031f51c',\n",
    "MinCount=1,\n",
    "MaxCount=2,\n",
    "InstanceType='t2.micro'\n",
    ")"
   ]
  },
  {
   "cell_type": "code",
   "execution_count": 24,
   "metadata": {},
   "outputs": [
    {
     "name": "stdout",
     "output_type": "stream",
     "text": [
      "i-092da0375af5abe45\n"
     ]
    }
   ],
   "source": [
    "print(vimal_instance[0].id)"
   ]
  },
  {
   "cell_type": "code",
   "execution_count": 25,
   "metadata": {},
   "outputs": [
    {
     "name": "stdout",
     "output_type": "stream",
     "text": [
      "i-08711f0d656a88d51\n"
     ]
    }
   ],
   "source": [
    "print(vimal_instance[1].id)"
   ]
  },
  {
   "cell_type": "code",
   "execution_count": 27,
   "metadata": {},
   "outputs": [
    {
     "name": "stdout",
     "output_type": "stream",
     "text": [
      "{'TerminatingInstances': [{'CurrentState': {'Code': 32, 'Name': 'shutting-down'}, 'InstanceId': 'i-092da0375af5abe45', 'PreviousState': {'Code': 16, 'Name': 'running'}}], 'ResponseMetadata': {'RequestId': '1491f882-e516-45b5-baa6-ac35aea6382d', 'HTTPStatusCode': 200, 'HTTPHeaders': {'x-amzn-requestid': '1491f882-e516-45b5-baa6-ac35aea6382d', 'cache-control': 'no-cache, no-store', 'strict-transport-security': 'max-age=31536000; includeSubDomains', 'content-type': 'text/xml;charset=UTF-8', 'transfer-encoding': 'chunked', 'vary': 'accept-encoding', 'date': 'Mon, 14 Jun 2021 07:22:55 GMT', 'server': 'AmazonEC2'}, 'RetryAttempts': 0}}\n"
     ]
    }
   ],
   "source": [
    "import boto3\n",
    "from secrets import access_key,secret_access_key\n",
    "res_ec2=boto3.resource('ec2',aws_access_key_id=access_key,aws_secret_access_key=secret_access_key,region_name='us-east-2')\n",
    "instance_ter=res_ec2.Instance('i-092da0375af5abe45')\n",
    "response=instance_ter.terminate()\n",
    "print(response)"
   ]
  },
  {
   "cell_type": "code",
   "execution_count": 29,
   "metadata": {},
   "outputs": [
    {
     "name": "stdout",
     "output_type": "stream",
     "text": [
      "i-092da0375af5abe45 {'Code': 48, 'Name': 'terminated'}\n",
      "i-08711f0d656a88d51 {'Code': 16, 'Name': 'running'}\n"
     ]
    }
   ],
   "source": [
    "import boto3\n",
    "from secrets import access_key,secret_access_key\n",
    "res_ec2=boto3.resource('ec2',aws_access_key_id=access_key,aws_secret_access_key=secret_access_key,region_name='us-east-2')\n",
    "for instance in res_ec2.instances.all():\n",
    "    print(instance.id, instance.state)"
   ]
  },
  {
   "cell_type": "code",
   "execution_count": null,
   "metadata": {},
   "outputs": [],
   "source": []
  }
 ],
 "metadata": {
  "kernelspec": {
   "display_name": "Python 3",
   "language": "python",
   "name": "python3"
  },
  "language_info": {
   "codemirror_mode": {
    "name": "ipython",
    "version": 3
   },
   "file_extension": ".py",
   "mimetype": "text/x-python",
   "name": "python",
   "nbconvert_exporter": "python",
   "pygments_lexer": "ipython3",
   "version": "3.7.6"
  }
 },
 "nbformat": 4,
 "nbformat_minor": 4
}
